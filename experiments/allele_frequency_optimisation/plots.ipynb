{
 "cells": [
  {
   "cell_type": "code",
   "execution_count": null,
   "metadata": {},
   "outputs": [],
   "source": [
    "%load_ext autoreload \n",
    "%autoreload 2"
   ]
  },
  {
   "cell_type": "code",
   "execution_count": null,
   "metadata": {},
   "outputs": [],
   "source": [
    "from utils.helper_functions import * \n",
    "\n",
    "dirnames = [\"Asia\", \"Europe\", \"North_America\" ]\n",
    "ref_sets = [[\"Maharashtra\", \"India\", \"Asia\", \"Global\"], [\"Netherlands\", \"Europe\", \"Global\"],[\"Connecticut\", \"USA\", \"North_America\", \"Global\"]]\n",
    "\n",
    "allele_freqs = [0.0, 0.1, 0.2, 0.3, 0.4, 0.5, 0.6, 0.7, 0.8, 0.9, 1.0]\n",
    "ref_sets = ref_sets\n",
    "abundances = [1,2,3,4,5,6,7,8,9,10,20,30,40,50,60,70,80,90,100]\n"
   ]
  },
  {
   "cell_type": "markdown",
   "metadata": {},
   "source": [
    "produce result files"
   ]
  },
  {
   "cell_type": "code",
   "execution_count": null,
   "metadata": {},
   "outputs": [],
   "source": [
    "\n",
    "# for dir, ref in zip(dirnames, ref_sets):\n",
    "#     # print(dir, ref)\n",
    "#     output_results_to_json_3_dirs(dir,\"0.1\", ref, allele_freqs, abundances, \"B.1.1.7_sequence\")"
   ]
  },
  {
   "cell_type": "code",
   "execution_count": null,
   "metadata": {},
   "outputs": [],
   "source": [
    "\n",
    "# for dir, ref in zip(dirnames, ref_sets):\n",
    "#     # print(dir, ref)\n",
    "#     output_results_to_json_3_dirs(dir,\"0.1\", ref, allele_freqs, abundances, \"B.1.1.7_sequence\", \"VOC\", \"alpha\")"
   ]
  },
  {
   "cell_type": "markdown",
   "metadata": {},
   "source": [
    "read results"
   ]
  },
  {
   "cell_type": "code",
   "execution_count": null,
   "metadata": {},
   "outputs": [],
   "source": [
    "results = dict()\n",
    "\n",
    "for continent in dirnames: \n",
    "    results[continent] = dict()\n",
    "    # load results\n",
    "    with open(\"results_{}.json\".format(continent)) as json_file:\n",
    "        results[continent] = json.loads(json_file.read())\n"
   ]
  },
  {
   "cell_type": "code",
   "execution_count": null,
   "metadata": {},
   "outputs": [],
   "source": [
    "results_who = dict()\n",
    "\n",
    "for continent in dirnames: \n",
    "    results_who[continent] = dict()\n",
    "    # load results\n",
    "    with open(\"results_who_{}.json\".format(continent)) as json_file:\n",
    "        results_who[continent] = json.loads(json_file.read())"
   ]
  },
  {
   "cell_type": "markdown",
   "metadata": {},
   "source": [
    "calculate absolute errors"
   ]
  },
  {
   "cell_type": "code",
   "execution_count": null,
   "metadata": {},
   "outputs": [],
   "source": [
    "ref_sets_dict = dict()\n",
    "\n",
    "for continent, ref_set_list in zip(dirnames, ref_sets):\n",
    "    ref_sets_dict[continent] = ref_set_list\n",
    "\n",
    "# (results_dict, third_dirs, abundances, second_dirs, first_dirs\n",
    "absolute_errors = calculate_absolute_errors_af(results, allele_freqs, abundances, ref_sets_dict, dirnames, True)"
   ]
  },
  {
   "cell_type": "code",
   "execution_count": null,
   "metadata": {},
   "outputs": [],
   "source": [
    "\n",
    "absolute_errors_who = calculate_absolute_errors_af(results_who, allele_freqs, abundances, ref_sets_dict, dirnames, True)"
   ]
  },
  {
   "cell_type": "code",
   "execution_count": null,
   "metadata": {},
   "outputs": [],
   "source": [
    "from matplotlib import gridspec\n",
    "import matplotlib.pyplot as plt\n",
    "import numpy as np\n",
    "\n",
    "def plot_with_line_plots_two_scales_custom(continents, ref_sets_dict, absolute_errors, outdir, allele_freqs):\n",
    "    fig = plt.figure(figsize=(20, 10))\n",
    "    fig.set_dpi(100)\n",
    "    outer = gridspec.GridSpec(1, 1, wspace=0.2, hspace=0.2)\n",
    "    colors = [\"orange\", \"green\", \"red\", \"orange\", \"green\", \"red\"]\n",
    "    for continent , i in zip(continents, range(3)):\n",
    "        if continent != \"North_America\":\n",
    "            continue\n",
    "        \n",
    "        if continent == \"North_America\":\n",
    "            i = 0\n",
    "        inner = gridspec.GridSpecFromSubplotSpec(1, 2,\n",
    "                                subplot_spec=outer[i], wspace=0.1, hspace=0.1)\n",
    "        axParent = plt.Subplot(fig, outer[i])\n",
    "        # axParent.set_title(\"{}\".format(continent.replace(\"_\", \" \")), fontweight='bold', pad=20, fontsize = 20)\n",
    "        axParent.set_xlabel(\"Allele frequency threshold\",  labelpad=-40, fontsize = 20 )\n",
    "        axParent.set_xticks([])\n",
    "        axParent.set_yticks([])\n",
    "        axParent.spines[\"top\"].set_visible(False)\n",
    "        axParent.spines[\"bottom\"].set_visible(False)\n",
    "        axParent.spines[\"left\"].set_visible(False)\n",
    "        axParent.spines[\"right\"].set_visible(False)\n",
    "        fig.add_subplot(axParent)\n",
    "        \n",
    "        for j, scale in zip(range(2), [[0, 10], [9, 20]]):\n",
    "                ax = plt.Subplot(fig, inner[j])\n",
    "                if j == 0:\n",
    "                    range_txt = \"one to ten\"\n",
    "                else: \n",
    "                    range_txt = \"ten to hundred\"\n",
    "\n",
    "                ax.set_title(\"Abundances in the range of {}\".format(range_txt), pad=15, fontsize = 20)\n",
    "                fig.add_subplot(ax)\n",
    "                for reference_set in ref_sets_dict[continent]:\n",
    "                    sums = []\n",
    "                    for af in allele_freqs:\n",
    "                        af = str(af)\n",
    "                        sum_per_af = sum(list(absolute_errors[continent][reference_set][af].values())[scale[0]: scale[1]])/10\n",
    "                        sums.append(sum_per_af)\n",
    "                    \n",
    "                    if continent == \"Europe\":\n",
    "                        print(\"in, \", reference_set)\n",
    "                        ax.plot(allele_freqs, sums, label = reference_set.replace(\"_\", \" \"), color = colors[0])\n",
    "                        colors.pop(0)\n",
    "                    else: \n",
    "                        ax.plot(allele_freqs, sums, label = reference_set.replace(\"_\", \" \"))  \n",
    "\n",
    "           \n",
    "                    ax.set_box_aspect(16/27)         \n",
    "                    ax.set_yticks((0, 5, 10, 15, 20, 30, 40, 50, 60, 70, 80, 90, 100))\n",
    "                    ax.set_xticks(allele_freqs)\n",
    "                    ax.set_ylabel(\"Average absolute error\", fontsize = 20, labelpad = 20)\n",
    "                    ax.set_ylim(0,15)\n",
    "                    ax.tick_params(axis='both', labelsize=20)\n",
    "                    ax.label_outer()\n",
    "                \n",
    "\n",
    "                    # put legend outside of plot and have it to be common for all plots\n",
    "                    if j == 1:\n",
    "                        ax.legend(bbox_to_anchor=(1.05, 0.7), loc='upper left', borderaxespad=0., fontsize = 20)\n",
    "\n",
    "    \n",
    "\n",
    "    # save absolute error as pdf in figures folder\n",
    "    plt.savefig(outdir + \"/lineplots_custom.pdf\", bbox_inches='tight')\n"
   ]
  },
  {
   "cell_type": "code",
   "execution_count": null,
   "metadata": {},
   "outputs": [],
   "source": [
    "from utils.plotting_functions import *\n",
    "if os.path.isdir(\"figures\") != True:\n",
    "    os.mkdir(\"figures\")\n",
    "\n",
    "\n",
    "# plot_with_line_plots_two_scales(dirnames, ref_sets_dict, absolute_errors, \"figures\", allele_freqs)\n",
    "\n",
    "if os.path.isdir(\"figures_who\") != True:\n",
    "    os.mkdir(\"figures_who\")\n",
    "    \n",
    "# plot_with_line_plots_two_scales(dirnames, ref_sets_dict, absolute_errors_who, \"figures_who\", allele_freqs)\n",
    "plot_with_line_plots_two_scales_custom(dirnames, ref_sets_dict, absolute_errors_who, \"figures_who\", allele_freqs)"
   ]
  }
 ],
 "metadata": {
  "kernelspec": {
   "display_name": "Python 3",
   "language": "python",
   "name": "python3"
  },
  "language_info": {
   "codemirror_mode": {
    "name": "ipython",
    "version": 3
   },
   "file_extension": ".py",
   "mimetype": "text/x-python",
   "name": "python",
   "nbconvert_exporter": "python",
   "pygments_lexer": "ipython3",
   "version": "3.9.6"
  },
  "orig_nbformat": 4,
  "vscode": {
   "interpreter": {
    "hash": "31f2aee4e71d21fbe5cf8b01ff0e069b9275f58929596ceb00d14d90e3e16cd6"
   }
  }
 },
 "nbformat": 4,
 "nbformat_minor": 2
}
