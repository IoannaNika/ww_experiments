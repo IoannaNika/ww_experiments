{
 "cells": [
  {
   "cell_type": "code",
   "execution_count": null,
   "metadata": {},
   "outputs": [],
   "source": [
    "%load_ext autoreload \n",
    "%autoreload 2"
   ]
  },
  {
   "cell_type": "code",
   "execution_count": null,
   "metadata": {},
   "outputs": [],
   "source": [
    "from utils.helper_functions import * \n",
    "\n",
    "ref_sets_NL = [\"Netherlands\", \"Netherlands_nearby_countries\", \"Europe\", \"Global_next_regions\"]\n",
    "\n",
    "seeds = [1,2,3,4,5,6,7,8,9,10]\n",
    "\n",
    "abundances = [1,2,3,4,5,6,7,8,9,10,20,30,40,50,60,70,80,90,100]\n",
    "\n",
    "output_results_to_json(os.curdir,\"0.1\", ref_sets_NL, seeds, abundances, \"B.1.1.7_sequence\")"
   ]
  },
  {
   "cell_type": "code",
   "execution_count": null,
   "metadata": {},
   "outputs": [],
   "source": [
    "ref_sets_NL = [\"Netherlands\", \"Netherlands_nearby_countries\", \"Europe\", \"Global_next_regions\"]\n",
    "\n",
    "seeds = [1,2,3,4,5,6,7,8,9,10]\n",
    "\n",
    "abundances = [1,2,3,4,5,6,7,8,9,10,20,30,40,50,60,70,80,90,100]\n",
    "\n",
    "from utils.helper_functions import * \n",
    "from utils.plotting_functions import * \n",
    "import json\n",
    "\n",
    "with open(\"results.json\") as json_file:\n",
    "    results = json.loads(json_file.read())\n",
    "    \n",
    "    refs = results.keys()\n",
    "    absolute_errors = calculate_absolute_errors(results, seeds, abundances, refs)\n",
    "\n",
    "plot_with_boxplots_two_scales(len(refs), refs, absolute_errors, \"figures/Groningen_\")\n",
    "\n"
   ]
  }
 ],
 "metadata": {
  "kernelspec": {
   "display_name": "Python 3.9.7 64-bit",
   "language": "python",
   "name": "python3"
  },
  "language_info": {
   "codemirror_mode": {
    "name": "ipython",
    "version": 3
   },
   "file_extension": ".py",
   "mimetype": "text/x-python",
   "name": "python",
   "nbconvert_exporter": "python",
   "pygments_lexer": "ipython3",
   "version": "3.9.7"
  },
  "orig_nbformat": 4,
  "vscode": {
   "interpreter": {
    "hash": "949777d72b0d2535278d3dc13498b2535136f6dfe0678499012e853ee9abcab1"
   }
  }
 },
 "nbformat": 4,
 "nbformat_minor": 2
}
