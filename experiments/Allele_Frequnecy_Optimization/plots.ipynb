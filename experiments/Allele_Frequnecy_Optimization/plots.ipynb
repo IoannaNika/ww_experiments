{
 "cells": [
  {
   "cell_type": "code",
   "execution_count": null,
   "metadata": {},
   "outputs": [],
   "source": [
    "%load_ext autoreload \n",
    "%autoreload 2"
   ]
  },
  {
   "cell_type": "code",
   "execution_count": null,
   "metadata": {},
   "outputs": [],
   "source": [
    "from utils.helper_functions import * \n",
    "\n",
    "dirnames = [\"Asia\", \"Europe\", \"North_America\" ]\n",
    "ref_sets_A = [\"Maharashtra\", \"Maharashtra_nearby_states\",\"India\", \"Asia\", \"Global_next_regions\"]\n",
    "ref_sets_E = [\"Netherlands\", \"Netherlands_nearby_countries\",\"Europe\", \"Global_next_regions\"]\n",
    "ref_sets_NA = [\"Connecticut\", \"Connecticut_nearby_states\", \"USA\",  \"North_America\", \"Global_next_regions\"]\n",
    "\n",
    "allele_freqs = [0.0, 0.1, 0.2, 0.3, 0.4, 0.5, 0.6, 0.7, 0.8, 0.9, 1.0]\n",
    "ref_sets = [ref_sets_A, ref_sets_E, ref_sets_NA]\n",
    "abundances = [1,2,3,4,5,6,7,8,9,10,20,30,40,50,60,70,80,90,100]\n"
   ]
  },
  {
   "cell_type": "markdown",
   "metadata": {},
   "source": [
    "produce result files"
   ]
  },
  {
   "cell_type": "code",
   "execution_count": null,
   "metadata": {},
   "outputs": [],
   "source": [
    "\n",
    "for dir, ref in zip(dirnames, ref_sets):\n",
    "    output_results_to_json_3_dirs(dir,\"0.0\", ref, allele_freqs, abundances, \"B.1.1.7_sequence\")"
   ]
  },
  {
   "cell_type": "markdown",
   "metadata": {},
   "source": [
    "read results"
   ]
  },
  {
   "cell_type": "code",
   "execution_count": null,
   "metadata": {},
   "outputs": [],
   "source": [
    "results = dict()\n",
    "\n",
    "for continent in dirnames: \n",
    "    results[continent] = dict()\n",
    "    # load results\n",
    "    with open(\"results_{}.json\".format(continent)) as json_file:\n",
    "        results[continent] = json.loads(json_file.read())\n"
   ]
  },
  {
   "cell_type": "markdown",
   "metadata": {},
   "source": [
    "calculate absolute errors"
   ]
  },
  {
   "cell_type": "code",
   "execution_count": null,
   "metadata": {},
   "outputs": [],
   "source": [
    "ref_sets_dict = dict()\n",
    "\n",
    "for continent, ref_set_list in zip(dirnames, ref_sets):\n",
    "    ref_sets_dict[continent] = ref_set_list\n",
    "\n",
    "absolute_errors = calculate_absolute_errors_af(results, allele_freqs, abundances, ref_sets_dict, dirnames)"
   ]
  },
  {
   "cell_type": "code",
   "execution_count": null,
   "metadata": {},
   "outputs": [],
   "source": [
    "from utils.plotting_functions import *\n",
    "if os.path.isdir(\"figures\") != True:\n",
    "    os.mkdir(\"figures\")\n",
    "\n",
    "\n",
    "plot_with_line_plots_two_scales(dirnames, ref_sets_dict, absolute_errors, \"figures\", allele_freqs)"
   ]
  }
 ],
 "metadata": {
  "kernelspec": {
   "display_name": "Python 3.9.6 64-bit",
   "language": "python",
   "name": "python3"
  },
  "language_info": {
   "codemirror_mode": {
    "name": "ipython",
    "version": 3
   },
   "file_extension": ".py",
   "mimetype": "text/x-python",
   "name": "python",
   "nbconvert_exporter": "python",
   "pygments_lexer": "ipython3",
   "version": "3.9.7"
  },
  "orig_nbformat": 4,
  "vscode": {
   "interpreter": {
    "hash": "aee8b7b246df8f9039afb4144a1f6fd8d2ca17a180786b69acc140d282b71a49"
   }
  }
 },
 "nbformat": 4,
 "nbformat_minor": 2
}
