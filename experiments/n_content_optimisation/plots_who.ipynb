{
 "cells": [
  {
   "cell_type": "code",
   "execution_count": null,
   "metadata": {},
   "outputs": [],
   "source": [
    "%load_ext autoreload \n",
    "%autoreload 2"
   ]
  },
  {
   "cell_type": "code",
   "execution_count": null,
   "metadata": {},
   "outputs": [],
   "source": [
    "import matplotlib.pylab as plt\n",
    "from utils.helper_functions import * \n",
    "import pandas as pd"
   ]
  },
  {
   "cell_type": "code",
   "execution_count": null,
   "metadata": {},
   "outputs": [],
   "source": [
    "ref_sets_NA = [\"Connecticut\", \"USA\",  \"North_America\", \"Global\"]\n",
    "\n",
    "N_content = [0.0, 0.001, 0.01, 0.1]\n",
    "abundances = [1,2,3,4,5,6,7,8,9,10,20,30,40,50,60,70,80,90,100]\n"
   ]
  },
  {
   "cell_type": "markdown",
   "metadata": {},
   "source": [
    "produce result files"
   ]
  },
  {
   "cell_type": "code",
   "execution_count": null,
   "metadata": {},
   "outputs": [],
   "source": [
    "output_results_to_json_2_dirs(\"0.1\", N_content, ref_sets_NA, abundances, \"alpha_sequence\")"
   ]
  },
  {
   "cell_type": "markdown",
   "metadata": {},
   "source": [
    "read results"
   ]
  },
  {
   "cell_type": "code",
   "execution_count": null,
   "metadata": {},
   "outputs": [],
   "source": [
    "\n",
    "with open(\"results_who.json\") as json_file:\n",
    "    results = json.loads(json_file.read())\n"
   ]
  },
  {
   "cell_type": "markdown",
   "metadata": {},
   "source": [
    "calculate absolute errors"
   ]
  },
  {
   "cell_type": "code",
   "execution_count": null,
   "metadata": {},
   "outputs": [],
   "source": [
    "absolute_errors = calculate_absolute_errors_2_dir(results, N_content, ref_sets_NA, abundances)"
   ]
  },
  {
   "cell_type": "code",
   "execution_count": null,
   "metadata": {},
   "outputs": [],
   "source": [
    "fig, ax = plt.subplots(2, 2, figsize=(20, 20))\n",
    "\n",
    "for ref_set, (i,j) in zip(ref_sets_NA, [(0,0), (0,1), (1,0), (1,1)]):\n",
    "    for na in N_content:\n",
    "        ax[i][j].plot(abundances, list(absolute_errors[na][ref_set].values()), label= na)\n",
    "\n",
    "    ax[i][j].set_xscale('log')\n",
    "    ax[i][j].set_title(\"{}\".format(ref_set.replace(\"_\", \" \")), fontsize=25, pad=10)\n",
    "    # ax[i][j].grid()\n",
    "    # plot x=y line black and dashed\n",
    "    ax[i][j].set_yticks([0, 5, 10, 15, 20, 25])\n",
    "    ax[i][j].tick_params(axis='x', labelsize=22)\n",
    "    ax[i][j].tick_params(axis='y', labelsize=22)\n",
    "\n",
    "\n",
    "    # plot one legend for all subplots on the right side with some space\n",
    "    handles, labels = ax[i][j].get_legend_handles_labels()\n",
    "    fig.legend(handles, labels, loc='center right', fontsize=22, bbox_to_anchor=(1.05, 0.5))\n",
    "\n",
    "# plot x-axis label common to all subplots\n",
    "fig.text(0.5, 0.04, 'Simulated abundance', ha='center', fontsize=27)\n",
    "# plot y-axis label common to all subplots\n",
    "fig.text(0.04, 0.5, 'Absolute error', va='center', rotation='vertical', fontsize=27)\n",
    "# save figure as pdf with tight layout\n",
    "if os.path.isdir(\"figures\") == False:\n",
    " os.mkdir(\"figures\")\n",
    "plt.savefig(\"figures/line_plot_who.pdf\", bbox_inches='tight')"
   ]
  },
  {
   "cell_type": "code",
   "execution_count": null,
   "metadata": {},
   "outputs": [],
   "source": [
    "fig, ax = plt.subplots(2, 2, figsize=(20, 20))\n",
    "\n",
    "for ref_set, (i,j) in zip(ref_sets_NA, [(0,0), (0,1), (1,0), (1,1)]):\n",
    "    for na in N_content:\n",
    "        ax[i][j].scatter(abundances, [results[str(na)][ref_set][str(abundance)] for abundance in abundances], label= na)\n",
    "    ax[i][j].set_xlabel(\"Simulated abundance\")\n",
    "    ax[i][j].set_ylabel(\"Predicted abundance\")\n",
    "    ax[i][j].set_xscale('log')\n",
    "    ax[i][j].set_title(\"Reference set: {}\".format(ref_set.replace(\"_\", \" \")), fontsize=20)\n",
    "    ax[i][j].grid()\n",
    "    # plot x=y line black and dashed\n",
    "    ax[i][j].plot(abundances, abundances, color='black', linestyle='dashed', label = \"True abundance\")\n",
    "    ax[i][j].legend()\n",
    "    ax[i][j].set_yticks([0, 10, 20, 30, 40, 50, 60, 70, 80 , 90, 100])\n",
    "        # save figure as pdf with tight layout\n",
    "\n",
    "    plt.subplots_adjust(hspace=0.3)\n",
    "    if os.path.isdir(\"figures\") == False:\n",
    "        os.mkdir(\"figures\")\n",
    "    plt.savefig(\"figures/scatter_plot_who.pdf\", bbox_inches='tight')\n",
    "        \n",
    "\n",
    "        "
   ]
  },
  {
   "cell_type": "code",
   "execution_count": null,
   "metadata": {},
   "outputs": [],
   "source": [
    "error_in_low_abs = dict()\n",
    "\n",
    "for ref_set in ref_sets_NA:\n",
    "    error_in_low_abs[ref_set] = dict()\n",
    "    for na in N_content:\n",
    "        error_in_low_abs[ref_set][na] = 0\n",
    "        \n",
    "        for ab in abundances[0:9]:\n",
    "\n",
    "            error_in_low_abs[ref_set][na]+= absolute_errors[na][ref_set][str(ab)]\n",
    "        error_in_low_abs[ref_set][na] = round(error_in_low_abs[ref_set][na]/10,3)\n",
    "\n",
    "print(\"Average absolute prediction errors for abundances <=10\")\n",
    "print(\"------------------------------------------------------\")\n",
    "print(pd.DataFrame(error_in_low_abs))\n"
   ]
  },
  {
   "cell_type": "code",
   "execution_count": null,
   "metadata": {},
   "outputs": [],
   "source": [
    "error_in_low_abs = dict()\n",
    "\n",
    "for ref_set in ref_sets_NA:\n",
    "    error_in_low_abs[ref_set] = dict()\n",
    "    for na in N_content:\n",
    "        error_in_low_abs[ref_set][na] = 0\n",
    "        \n",
    "        for ab in abundances[9:]:\n",
    "\n",
    "            error_in_low_abs[ref_set][na]+= absolute_errors[na][ref_set][str(ab)]\n",
    "        error_in_low_abs[ref_set][na] = round(error_in_low_abs[ref_set][na]/10,3)\n",
    "\n",
    "print(\"Average absolute prediction errors for abundances >=10\")\n",
    "print(\"------------------------------------------------------\")\n",
    "print(pd.DataFrame(error_in_low_abs))"
   ]
  }
 ],
 "metadata": {
  "kernelspec": {
   "display_name": "Python 3",
   "language": "python",
   "name": "python3"
  },
  "language_info": {
   "codemirror_mode": {
    "name": "ipython",
    "version": 3
   },
   "file_extension": ".py",
   "mimetype": "text/x-python",
   "name": "python",
   "nbconvert_exporter": "python",
   "pygments_lexer": "ipython3",
   "version": "3.9.6"
  },
  "orig_nbformat": 4,
  "vscode": {
   "interpreter": {
    "hash": "31f2aee4e71d21fbe5cf8b01ff0e069b9275f58929596ceb00d14d90e3e16cd6"
   }
  }
 },
 "nbformat": 4,
 "nbformat_minor": 2
}
