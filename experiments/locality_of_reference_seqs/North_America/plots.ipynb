{
 "cells": [
  {
   "cell_type": "code",
   "execution_count": null,
   "metadata": {},
   "outputs": [],
   "source": [
    "%load_ext autoreload \n",
    "%autoreload 2"
   ]
  },
  {
   "cell_type": "code",
   "execution_count": null,
   "metadata": {},
   "outputs": [],
   "source": [
    "from utils.helper_functions import * \n",
    "from utils.plotting_functions import * "
   ]
  },
  {
   "cell_type": "code",
   "execution_count": null,
   "metadata": {},
   "outputs": [],
   "source": [
    "dirnames = [\"Connecticut\", \"Massachusetts\", \"Indiana\" ]\n",
    "ref_sets_M = [\"Massachusetts\", \"USA\", \"North_America\", \"Global\", \"Global_next_regions\"]\n",
    "ref_sets_C = [\"Connecticut\", \"USA\", \"North_America\", \"Global\", \"Global_next_regions\"]\n",
    "ref_sets_I = [\"Indiana\", \"USA\", \"North_America\", \"Global\", \"Global_next_regions\"]\n",
    "\n",
    "seeds = [1,2,3,4,5,6,7,8,9,10,11,12,13,14,15,16,17,18,19,20]\n",
    "abundances = [1,2,3,4,5,6,7,8,9,10,20,30,40,50,60,70,80,90,100]\n",
    "ref_sets = [ref_sets_C, ref_sets_M, ref_sets_I]\n",
    "\n",
    "if os.path.isdir(\"results\") == False:\n",
    "    os.mkdir(\"results\")\n",
    "    \n",
    "for dir, ref in zip(dirnames, ref_sets) :\n",
    "    output_results_to_json(dir,\"0.1\", ref, seeds, abundances, \"B.1.1.7_sequence\")\n",
    "    output_results_to_json(dir, \"0.1\", ref, seeds, abundances,\"B.1.1.7_sequence\", \"VOC\", \"alpha\")\n"
   ]
  },
  {
   "cell_type": "code",
   "execution_count": null,
   "metadata": {},
   "outputs": [],
   "source": [
    "dirnames = [\"Connecticut\", \"Massachusetts\", \"Indiana\" ]\n",
    "ref_sets_M = [\"Massachusetts\", \"USA\", \"North_America\", \"Global\"]\n",
    "ref_sets_C = [\"Connecticut\", \"USA\", \"North_America\", \"Global\"]\n",
    "ref_sets_I = [\"Indiana\", \"USA\",  \"North_America\", \"Global\"]\n",
    "\n",
    "seeds = [1,2,3,4,5,6,7,8,9,10,11,12,13,14,15,16,17,18,19,20]\n",
    "abundances = [1,2,3,4,5,6,7,8,9,10,20,30,40,50,60,70,80,90,100]\n",
    "\n",
    "ref_sets = [ref_sets_C, ref_sets_M, ref_sets_I]\n",
    "\n",
    "if os.path.isdir(\"figures\") == False:\n",
    "    os.mkdir(\"figures\")\n",
    "for dir in dirnames:\n",
    "    with open(\"results/\" + dir + \"_results.json\") as json_file:\n",
    "        results = json.loads(json_file.read())\n",
    "    with open(\"results/\" + dir + \"_results_who.json\") as json_file:\n",
    "        results_who = json.loads(json_file.read())\n",
    "        results.pop(\"Global_next_regions\")\n",
    "        refs = results.keys()\n",
    "        print(refs)\n",
    "        absolute_errors = calculate_absolute_errors(results, seeds, abundances, refs)\n",
    "        absolute_errors_who =  calculate_absolute_errors(results_who, seeds, abundances, refs)\n",
    "\n",
    "    plot_with_boxplots_two_scales(len(refs), refs, absolute_errors, \"figures/{}_\".format(dir.replace(\"/\", \"\")))\n",
    "    plot_with_boxplots_two_scales(len(refs), refs, absolute_errors, \"figures/{}_\".format(dir.replace(\"/\", \"\")), absolute_errors_who)"
   ]
  },
  {
   "cell_type": "code",
   "execution_count": null,
   "metadata": {},
   "outputs": [],
   "source": [
    "dirs = [\"Connecticut\", \"Massachusetts\", \"Indiana\", \"USA\",\"North_America\", \"Global\", \"Global_next_regions/filtered\"]\n",
    "\n",
    "for ref_set in dirs:\n",
    "    print(ref_set)\n",
    "    path = \"../../../../data/Proximity_Experiments/HPC/North_America/reference_sets/{}\".format(ref_set)\n",
    "    find_amount_of_lineage(\"Q.\",path,True)"
   ]
  },
  {
   "cell_type": "markdown",
   "metadata": {},
   "source": [
    "For global next regions"
   ]
  },
  {
   "cell_type": "code",
   "execution_count": null,
   "metadata": {},
   "outputs": [],
   "source": [
    "dirnames = [\"Connecticut\", \"Massachusetts\", \"Indiana\" ]\n",
    "ref_sets_M = [\"Massachusetts\", \"USA\", \"North_America\", \"Global\", \"Global_next_regions\"]\n",
    "ref_sets_C = [\"Connecticut\", \"USA\", \"North_America\", \"Global\", \"Global_next_regions\"]\n",
    "ref_sets_I = [\"Indiana\", \"USA\",  \"North_America\", \"Global\", \"Global_next_regions\"]\n",
    "\n",
    "seeds = [1,2,3,4,5,6,7,8,9,10,11,12,13,14,15,16,17,18,19,20]\n",
    "abundances = [1,2,3,4,5,6,7,8,9,10,20,30,40,50,60,70,80,90,100]\n",
    "ref_sets = [ref_sets_C, ref_sets_M, ref_sets_I]\n",
    "\n",
    "if os.path.isdir(\"figures\") == False:\n",
    "    os.mkdir(\"figures\")\n",
    "for dir in dirnames:\n",
    "    with open(\"results/\" + dir + \"_results.json\") as json_file:\n",
    "        results = json.loads(json_file.read())\n",
    "    with open(\"results/\" + dir + \"_results_who.json\") as json_file:\n",
    "        results_who = json.loads(json_file.read())\n",
    "        \n",
    "        refs = results.keys()\n",
    "        absolute_errors = calculate_absolute_errors(results, seeds, abundances, refs)\n",
    "        absolute_errors_who =  calculate_absolute_errors(results_who, seeds, abundances, refs)\n",
    "\n",
    "    plot_with_boxplots_two_scales(len(refs), refs, absolute_errors, \"figures/incl_gnr_{}_\".format(dir.replace(\"/\", \"\")))\n",
    "    plot_with_boxplots_two_scales(len(refs), refs, absolute_errors, \"figures/incl_gnr_{}_\".format(dir.replace(\"/\", \"\")), absolute_errors_who)"
   ]
  },
  {
   "cell_type": "markdown",
   "metadata": {},
   "source": [
    "Non-adjusted predictions"
   ]
  },
  {
   "cell_type": "code",
   "execution_count": null,
   "metadata": {},
   "outputs": [],
   "source": [
    "dirnames = [\"Connecticut\", \"Massachusetts\", \"Indiana\" ]\n",
    "ref_sets_M = [\"Massachusetts\", \"USA\", \"North_America\", \"Global\", \"Global_next_regions\"]\n",
    "ref_sets_C = [\"Connecticut\", \"USA\", \"North_America\", \"Global\", \"Global_next_regions\"]\n",
    "ref_sets_I = [\"Indiana\", \"USA\", \"North_America\", \"Global\", \"Global_next_regions\"]\n",
    "\n",
    "seeds = [1,2,3,4,5,6,7,8,9,10,11,12,13,14,15,16,17,18,19,20]\n",
    "abundances = [1,2,3,4,5,6,7,8,9,10,20,30,40,50,60,70,80,90,100]\n",
    "\n",
    "ref_sets = [ref_sets_C, ref_sets_M, ref_sets_I]\n",
    "\n",
    "if os.path.isdir(\"results\") == False:\n",
    "    os.mkdir(\"results\")\n",
    "    \n",
    "for dir, ref in zip(dirnames, ref_sets) :\n",
    "    output_results_to_json(dir,\"0.1\", ref, seeds, abundances, \"B.1.1.7_sequence\",\"lineage\", None, False)\n",
    "    output_results_to_json(dir, \"0.1\", ref, seeds, abundances,\"B.1.1.7_sequence\", \"VOC\", \"alpha\", False)"
   ]
  },
  {
   "cell_type": "code",
   "execution_count": null,
   "metadata": {},
   "outputs": [],
   "source": [
    "dirnames = [\"Connecticut\", \"Massachusetts\", \"Indiana\" ]\n",
    "ref_sets_M = [\"Massachusetts\", \"USA\", \"North_America\", \"Global\"]\n",
    "ref_sets_C = [\"Connecticut\", \"USA\", \"North_America\", \"Global\"]\n",
    "ref_sets_I = [\"Indiana\", \"USA\",  \"North_America\", \"Global\"]\n",
    "\n",
    "seeds = [1,2,3,4,5,6,7,8,9,10,11,12,13,14,15,16,17,18,19,20]\n",
    "abundances = [1,2,3,4,5,6,7,8,9,10,20,30,40,50,60,70,80,90,100]\n",
    "ref_sets = [ref_sets_C, ref_sets_M, ref_sets_I]\n",
    "\n",
    "if os.path.isdir(\"figures\") == False:\n",
    "    os.mkdir(\"figures\")\n",
    "for dir in dirnames:\n",
    "    with open(\"results/not_adjusted_\" + dir + \"_results.json\") as json_file:\n",
    "        results = json.loads(json_file.read())\n",
    "    with open(\"results/not_adjusted_\" + dir + \"_results_who.json\") as json_file:\n",
    "        results_who = json.loads(json_file.read())\n",
    "    with open(\"results/\" + dir + \"_results.json\") as json_file:\n",
    "        results_adj = json.loads(json_file.read())\n",
    "    with open(\"results/\" + dir + \"_results_who.json\") as json_file:\n",
    "        results_adj_who = json.loads(json_file.read())\n",
    "        \n",
    "        refs = results.keys()\n",
    "        absolute_errors = calculate_absolute_errors(results, seeds, abundances, refs)\n",
    "        absolute_errors_who =  calculate_absolute_errors(results_who, seeds, abundances, refs)\n",
    "        absolute_errors_adj = calculate_absolute_errors(results_adj, seeds, abundances, refs)\n",
    "        absolute_errors_adj_who = calculate_absolute_errors(results_adj_who, seeds, abundances, refs)\n",
    "\n",
    "    plot_with_boxplots_two_scales(len(refs), refs, absolute_errors, \"figures/not_adjusted_{}_\".format(dir.replace(\"/\", \"\")))\n",
    "    plot_with_boxplots_two_scales(len(refs), refs, absolute_errors, \"figures/not_adjusted_{}_\".format(dir.replace(\"/\", \"\")), absolute_errors_who)\n",
    "    plot_with_boxplots_two_scales(len(refs), refs, absolute_errors_adj, \"figures/not_adjusted_vs_adjusted_{}_\".format(dir.replace(\"/\", \"\")), absolute_errors, [\"Adjusted predictions\", \"Not adjusted predictions\"])\n",
    "    plot_with_boxplots_two_scales(len(refs), refs, absolute_errors_adj_who, \"figures/not_adjusted_vs_adjusted_{}_who_\".format(dir.replace(\"/\", \"\")), absolute_errors_who, [\"Adjusted predictions\", \"Not adjusted predictions\"])"
   ]
  }
 ],
 "metadata": {
  "kernelspec": {
   "display_name": "Python 3.9.7 64-bit",
   "language": "python",
   "name": "python3"
  },
  "language_info": {
   "codemirror_mode": {
    "name": "ipython",
    "version": 3
   },
   "file_extension": ".py",
   "mimetype": "text/x-python",
   "name": "python",
   "nbconvert_exporter": "python",
   "pygments_lexer": "ipython3",
   "version": "3.9.7"
  },
  "orig_nbformat": 4,
  "vscode": {
   "interpreter": {
    "hash": "949777d72b0d2535278d3dc13498b2535136f6dfe0678499012e853ee9abcab1"
   }
  }
 },
 "nbformat": 4,
 "nbformat_minor": 2
}
