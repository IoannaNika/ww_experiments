{
 "cells": [
  {
   "cell_type": "code",
   "execution_count": null,
   "metadata": {},
   "outputs": [],
   "source": [
    "%load_ext autoreload \n",
    "%autoreload 2"
   ]
  },
  {
   "cell_type": "code",
   "execution_count": null,
   "metadata": {},
   "outputs": [],
   "source": [
    "from utils.helper_functions import * \n",
    "\n",
    "dirnames = [\"Connecticut\"]\n",
    "ref_sets_C = [\"Connecticut\", \"USA\", \"North_America\", \"Global\"]\n",
    "\n",
    "seeds = [1,2,3,4,5,6,7,8,9,10,11,12,13,14,15,16,17,18,19,20]\n",
    "ref_sets = [ref_sets_C]\n",
    "\n",
    "if os.path.isdir(\"results\") == False:\n",
    "    os.mkdir(\"results\")\n",
    "    \n",
    "abundances = [1,2,3,4,5,6,7,8,9,10,20,30,40,50,60,70,80,90,100]\n",
    "for dir, ref in zip(dirnames, ref_sets) :\n",
    "    output_results_to_json(dir,\"0.1\", ref, seeds, abundances, \"B.1.1.7_sequence\")\n",
    "    output_results_to_json(dir, \"0.1\", ref, seeds, abundances,\"B.1.1.7_sequence\", \"VOC\", \"alpha\")\n"
   ]
  },
  {
   "cell_type": "code",
   "execution_count": null,
   "metadata": {},
   "outputs": [],
   "source": [
    "dirnames = [\"Connecticut\" ]\n",
    "ref_sets_C = [\"Connecticut\", \"USA\", \"North_America\", \"Global\"]\n",
    "\n",
    "seeds = [1,2,3,4,5,6,7,8,9,10,11,12,13,14,15,16,17,18,19,20]\n",
    "ref_sets = [ref_sets_C]\n",
    "\n",
    "abundances = [1,2,3,4,5,6,7,8,9,10,20,30,40,50,60,70,80,90,100]\n",
    "\n",
    "from utils.helper_functions import * \n",
    "from utils.plotting_functions import * \n",
    "import json\n",
    "if os.path.isdir(\"figures\") == False:\n",
    "    os.mkdir(\"figures\")\n",
    "for dir in dirnames:\n",
    "    with open(\"results/\" + dir + \"_results.json\") as json_file:\n",
    "        results = json.loads(json_file.read())\n",
    "    with open(\"results/\" + dir + \"_results_who.json\") as json_file:\n",
    "        results_who = json.loads(json_file.read())\n",
    "        \n",
    "        refs = results.keys()\n",
    "        absolute_errors = calculate_absolute_errors(results, seeds, abundances, refs)\n",
    "        absolute_errors_who =  calculate_absolute_errors(results_who, seeds, abundances, refs)\n",
    "\n",
    "    plot_with_boxplots_two_scales(len(refs), refs, absolute_errors, \"figures/{}_\".format(dir.replace(\"/\", \"\")))\n",
    "    plot_with_boxplots_two_scales(len(refs), refs, absolute_errors, \"figures/{}_\".format(dir.replace(\"/\", \"\")), absolute_errors_who)"
   ]
  }
 ],
 "metadata": {
  "kernelspec": {
   "display_name": "Python 3",
   "language": "python",
   "name": "python3"
  },
  "language_info": {
   "codemirror_mode": {
    "name": "ipython",
    "version": 3
   },
   "file_extension": ".py",
   "mimetype": "text/x-python",
   "name": "python",
   "nbconvert_exporter": "python",
   "pygments_lexer": "ipython3",
   "version": "3.9.7"
  },
  "orig_nbformat": 4,
  "vscode": {
   "interpreter": {
    "hash": "949777d72b0d2535278d3dc13498b2535136f6dfe0678499012e853ee9abcab1"
   }
  }
 },
 "nbformat": 4,
 "nbformat_minor": 2
}
