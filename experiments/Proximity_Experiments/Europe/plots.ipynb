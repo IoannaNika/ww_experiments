{
 "cells": [
  {
   "cell_type": "code",
   "execution_count": 3,
   "metadata": {},
   "outputs": [],
   "source": [
    "%load_ext autoreload \n",
    "%autoreload 2"
   ]
  },
  {
   "cell_type": "code",
   "execution_count": null,
   "metadata": {},
   "outputs": [],
   "source": [
    "from utils.helper_functions import * \n",
    "\n",
    "dirnames = [\"Groningen/\", \"Madrid/\", \"Northern_Estonia/\" ]\n",
    "ref_sets_NL = [\"Netherlands\", \"Netherlands_nearby_countries\", \"Europe\", \"Global_next_regions\"]\n",
    "ref_sets_SP = [\"Spain\", \"Spain_nearby_countries\", \"Europe\", \"Global_next_regions\"]\n",
    "ref_sets_E = [\"Estonia\", \"Estonia_nearby_countries\", \"Europe\", \"Global_next_regions\"]\n",
    "\n",
    "seeds = [1,2,3,4,5,6,7,8,9,10]\n",
    "ref_sets = [ref_sets_NL, ref_sets_SP, ref_sets_E]\n",
    "\n",
    "abundances = [1,2,3,4,5,6,7,8,9,10,20,30,40,50,60,70,80,90,100]\n",
    "for dir, ref in zip(dirnames, ref_sets) :\n",
    "    output_results_to_json(dir,\"0.0\", ref, seeds, abundances, \"B.1.1.7_sequence\")"
   ]
  },
  {
   "cell_type": "code",
   "execution_count": null,
   "metadata": {},
   "outputs": [],
   "source": [
    "dirnames = [\"Groningen/\", \"Madrid/\", \"Northern_Estonia/\" ]\n",
    "ref_sets_NL = [\"Netherlands\", \"Netherlands_nearby_countries\", \"Europe\", \"Global_next_regions\"]\n",
    "ref_sets_SP = [\"Spain\", \"Spain_nearby_countries\", \"Europe\", \"Global_next_regions\"]\n",
    "ref_sets_E = [\"Estonia\", \"Estonia_nearby_countries\", \"Europe\", \"Global_next_regions\"]\n",
    "\n",
    "seeds = [1,2,3,4,5,6,7,8,9,10]\n",
    "ref_sets = [ref_sets_NL, ref_sets_SP, ref_sets_E]\n",
    "\n",
    "abundances = [1,2,3,4,5,6,7,8,9,10,20,30,40,50,60,70,80,90,100]\n",
    "\n",
    "from utils.helper_functions import * \n",
    "from utils.plotting_functions import * \n",
    "import json\n",
    "\n",
    "for dir in dirnames:\n",
    "    with open(dir + \"results.json\") as json_file:\n",
    "        results = json.loads(json_file.read())\n",
    "        \n",
    "        refs = results.keys()\n",
    "        absolute_errors = calculate_absolute_errors(results, seeds, abundances, refs)\n",
    "    plot_with_boxplots_two_scales(len(refs), refs, absolute_errors, \"figures/{}_\".format(dir.replace(\"/\", \"\")))\n",
    "\n",
    "    "
   ]
  }
 ],
 "metadata": {
  "kernelspec": {
   "display_name": "Python 3.9.6 64-bit",
   "language": "python",
   "name": "python3"
  },
  "language_info": {
   "codemirror_mode": {
    "name": "ipython",
    "version": 3
   },
   "file_extension": ".py",
   "mimetype": "text/x-python",
   "name": "python",
   "nbconvert_exporter": "python",
   "pygments_lexer": "ipython3",
   "version": "3.9.7"
  },
  "orig_nbformat": 4,
  "vscode": {
   "interpreter": {
    "hash": "aee8b7b246df8f9039afb4144a1f6fd8d2ca17a180786b69acc140d282b71a49"
   }
  }
 },
 "nbformat": 4,
 "nbformat_minor": 2
}
